{
  "cells": [
    {
      "cell_type": "markdown",
      "metadata": {
        "id": "view-in-github",
        "colab_type": "text"
      },
      "source": [
        "<a href=\"https://colab.research.google.com/github/Renggobawaniw/Introduction-To-Python/blob/main/SI6_11_RENGGO_BAWANI_WIJAYANINGRUM_SI611014_ASSIGMENT1_(1).ipynb\" target=\"_parent\"><img src=\"https://colab.research.google.com/assets/colab-badge.svg\" alt=\"Open In Colab\"/></a>"
      ]
    },
    {
      "cell_type": "markdown",
      "metadata": {
        "id": "qbJ04eohuk12"
      },
      "source": [
        "# Assignment 1"
      ]
    },
    {
      "cell_type": "markdown",
      "metadata": {
        "id": "ht6SkVm_uk2E"
      },
      "source": [
        "*Nama* : Renggo Bawani Wijayaningrum  \n",
        "Mentor Name : Rugaya BSA  "
      ]
    },
    {
      "cell_type": "markdown",
      "metadata": {
        "id": "aus4peFuuk2I"
      },
      "source": [
        "## Soal 1 : Triangle Pattern Programs in Python"
      ]
    },
    {
      "cell_type": "markdown",
      "metadata": {
        "id": "C2DDiRUFuk2J"
      },
      "source": [
        "Kerjakan pada fungsi segitiga dibawah ini untuk membuat pola output sebagai berikut\n",
        "\n",
        "CASE 1\n",
        "\n",
        "INPUT    \n",
        "panjang = 3      \n",
        "sudutSegitiga = 'kiri'   \n",
        "\n",
        "OUPUT   \n",
        "```\n",
        "*  \n",
        "**\n",
        "***\n",
        "```\n",
        "\n",
        "\n",
        "CASE 2\n",
        "\n",
        "INPUT    \n",
        "panjang = 4     \n",
        "sudutSegitiga = 'kanan'   \n",
        "\n",
        "OUPUT   \n",
        "```\n",
        "   *\n",
        "  **\n",
        " ***\n",
        "****\n",
        "```"
      ]
    },
    {
      "cell_type": "code",
      "source": [
        "def triangle_pattern(n):\n",
        "    for i in range(n):\n",
        "        # Mencetak spasi\n",
        "        print(' ' * (n - i - 1), end='')\n",
        "        # Mencetak bintang\n",
        "        print('*' * (2 * i + 1))\n",
        "\n",
        "# Mengatur tinggi segitiga\n",
        "height = 5\n",
        "triangle_pattern(height)"
      ],
      "metadata": {
        "colab": {
          "base_uri": "https://localhost:8080/"
        },
        "id": "xi7TL1xt9_Oy",
        "outputId": "7acbaac0-27e7-4763-c024-3fc7ece9c6d8"
      },
      "execution_count": 1,
      "outputs": [
        {
          "output_type": "stream",
          "name": "stdout",
          "text": [
            "    *\n",
            "   ***\n",
            "  *****\n",
            " *******\n",
            "*********\n"
          ]
        }
      ]
    },
    {
      "cell_type": "code",
      "source": [
        "import pandas as pd\n",
        "\n",
        "# Contoh data\n",
        "data = {\n",
        "    'ID': [1, 2, 3, 4, 5],\n",
        "    'NAME': ['Alice', 'Bob', 'Charlie', 'David', 'Eve'],\n",
        "    'TARGET': [0.1, 0.6, 0.4, 0.8, 0.3]\n",
        "}\n",
        "\n",
        "# Membuat DataFrame\n",
        "df = pd.DataFrame(data)\n",
        "\n",
        "# Memfilter data\n",
        "filtered_data = df[df['TARGET'] > 0.5]\n",
        "\n",
        "# Menyimpan ke file CSV\n",
        "filtered_data.to_csv('filtered_data.csv', index=False)\n",
        "\n",
        "print(\"Data yang difilter telah disimpan ke 'filtered_data.csv'\")"
      ],
      "metadata": {
        "colab": {
          "base_uri": "https://localhost:8080/"
        },
        "id": "BT7vUC7EAPGk",
        "outputId": "ca405e26-7470-4747-d39f-1d311159de6e"
      },
      "execution_count": 2,
      "outputs": [
        {
          "output_type": "stream",
          "name": "stdout",
          "text": [
            "Data yang difilter telah disimpan ke 'filtered_data.csv'\n"
          ]
        }
      ]
    },
    {
      "cell_type": "code",
      "execution_count": null,
      "metadata": {
        "colab": {
          "base_uri": "https://localhost:8080/"
        },
        "id": "RyZCFHyDuk2N",
        "outputId": "4f46ae6c-a75a-491b-bff3-8c4b177e6809"
      },
      "outputs": [
        {
          "name": "stdout",
          "output_type": "stream",
          "text": [
            "3 kiri\n",
            "*\n",
            "**\n",
            "***\n",
            "4 kanan\n",
            "    *\n",
            "   **\n",
            "  ***\n",
            " ****\n"
          ]
        }
      ],
      "source": [
        "def segitiga(panjang, sudutSegitiga):\n",
        "  # silahkan koding disini\n",
        "\n",
        "  # ----\n",
        "  print(panjang, sudutSegitiga)\n",
        "# Case 1\n",
        "segitiga(3, 'kiri')\n",
        "t = int(4)\n",
        "for i in range(1,t):\n",
        "    print(i * \"*\")\n",
        "\n",
        "# Case 2\n",
        "segitiga(4, 'kanan')\n",
        "t = int(4)\n",
        "for i in range(1,t+1):\n",
        "    print(((t-i+1) * \" \") + (i * \"*\"))\n",
        "# Kerjakan setelah berhasil membuat case 1\n",
        "# segitiga(4, 'kanan')"
      ]
    },
    {
      "cell_type": "markdown",
      "metadata": {
        "id": "52oOeR_CsxxJ"
      },
      "source": [
        "pada pemrograman ini menggunakan rumus for untuk membuat segitiga berbintang pertama kita membuat rancangan bentuk gambarannya seperti berapa jumlah baris atas ke bawah misalnya ada 3 terus ada lagi ketentuanya misal barisnya ke kanan atau ke kiri,kemudian yang kedua kita kunci dulu jumlah columnnya ada 4 jadi fo in 4 ,lalu yang ketiga karena t nya angkanya 3 jadi yang segitiga untuk case 1 cuman 1 samat artinya 1,1+1,1+2 membentuk barisan menjadi 1 bintang dulu,2 bintang,kemudian 3 bintang di sisi kiri.\n",
        "begitu juga dengan case dua sama untuk for in range 1,t+1 yang artinya 1,1+1,2+1,3+1 ada 4 baris"
      ]
    },
    {
      "cell_type": "markdown",
      "metadata": {
        "id": "FOSqymHNuk2Q"
      },
      "source": [
        "## Soal 2 : Filter Data and Save to CSV File"
      ]
    },
    {
      "cell_type": "markdown",
      "metadata": {
        "id": "WNH92Whbuk2R"
      },
      "source": [
        "Kerjakan fungsi filterCharacters dengan menghasilkan data dengan status True pada csv (result.csv).   \n",
        "\n",
        "\n",
        "Note kamu cukup kumpulkan file ipynb ini saja."
      ]
    },
    {
      "cell_type": "code",
      "execution_count": null,
      "metadata": {
        "id": "FMx4mGaXuk2S"
      },
      "outputs": [],
      "source": [
        "# Jalankan line ini jika pada PC mu belum terinstall pandas\n",
        "pip install pandas"
      ]
    },
    {
      "cell_type": "code",
      "execution_count": null,
      "metadata": {
        "colab": {
          "base_uri": "https://localhost:8080/"
        },
        "id": "3Kl4iVwluk2U",
        "outputId": "e68c6bdf-38f6-4e1f-eadb-7f722b6bddaa"
      },
      "outputs": [
        {
          "name": "stdout",
          "output_type": "stream",
          "text": [
            "Data yang memiliki status True telah disimpan ke dalam file result.csv\n"
          ]
        }
      ],
      "source": [
        "import pandas as pd\n",
        "\n",
        "def filterCharacters():\n",
        "  data = [\n",
        "    {\"name\": \"Luffy\", \"age\": 19, \"status\": True},\n",
        "    {\"name\": \"Nami\", \"age\": 20, \"status\": False},\n",
        "    {\"name\": \"Usopp\", \"age\": 19, \"status\": False},\n",
        "    {\"name\": \"Zoro\", \"age\": 21, \"status\": False},\n",
        "    {\"name\": \"Chopper\", \"age\": 19, \"status\": True},\n",
        "    {\"name\": \"Sanji\", \"age\": 21, \"status\": False},\n",
        "    {\"name\": \"Robin\", \"age\": 30, \"status\": True}\n",
        "  ]\n",
        "\n",
        "  filtered_data = []\n",
        "\n",
        "  # Lopping untuk filtering data yang memiliki status True\n",
        "  for character in data:\n",
        "    if character['status']:\n",
        "      filtered_data.append(character)\n",
        "\n",
        "  # Membuat DataFrame dari data yang telah difilter\n",
        "  df = pd.DataFrame(filtered_data)\n",
        "\n",
        "  # Simpan DataFrame ke dalam file CSV\n",
        "  df.to_csv('result.csv', index=False)\n",
        "  print(\"Data yang memiliki status True telah disimpan ke dalam file result.csv\")\n",
        "\n",
        "filterCharacters()\n",
        "\n",
        "\n",
        "\n"
      ]
    },
    {
      "cell_type": "code",
      "execution_count": null,
      "metadata": {
        "colab": {
          "base_uri": "https://localhost:8080/"
        },
        "id": "0rP40uLIuk2X",
        "outputId": "e572413e-05c7-4148-f714-5be8c1a5ee93"
      },
      "outputs": [
        {
          "name": "stdout",
          "output_type": "stream",
          "text": [
            "Hello World!\n"
          ]
        }
      ],
      "source": [
        "# Membaca isi file\n",
        "with open('data.txt', 'w') as file:\n",
        "    file.write('Hello World!')\n",
        "\n",
        "\n",
        "# Menulis ke dalam file\n",
        "with open('data.txt', 'r') as file:\n",
        "    data = file.read()\n",
        "    print(data)"
      ]
    },
    {
      "cell_type": "code",
      "execution_count": null,
      "metadata": {
        "colab": {
          "base_uri": "https://localhost:8080/"
        },
        "id": "fEo_pCvIuk2Z",
        "outputId": "6c3f45c9-b696-447c-8b28-755bd52f0ef3"
      },
      "outputs": [
        {
          "name": "stdout",
          "output_type": "stream",
          "text": [
            "Isi file 'data.txt':\n",
            "\n"
          ]
        }
      ],
      "source": [
        "import pandas as pd\n",
        "# Membaca isi file 'data.txt' dan menampilkannya\n",
        "with open('data.txt','r') as file:\n",
        "  data_txt = file.read()\n",
        "  print(\"Isi file 'data.txt':\")\n",
        "  print(data_txt)\n",
        "\n",
        "# Menulis teks baru ke dalam file 'data.txt' tanpa menghapus isi sebelumnya\n",
        "with open('data.txt','a') as file:\n",
        "  file.write('\\nHello,World!')\n",
        "\n",
        "\n"
      ]
    },
    {
      "source": [
        "# Membaca file CSV 'data.csv' ke dalam DataFrame\n",
        "try:\n",
        "   # Provide the correct path to 'data.csv' if it's not in the current directory\n",
        "   # For example: df = pd.read_csv('/path/to/your/file/data.csv')\n",
        "   df = pd.read_csv('data.csv')\n",
        "   print(\"/content/filtered_data.csv\")\n",
        "   print(df.head())\n",
        "except pd.errors.EmptyDataError:\n",
        "   print(\"\\nFile'data.csv'kosong atau tidak dapat diproses.\")\n",
        "except FileNotFoundError:\n",
        "   print(\"\\nFile 'data.csv' tidak ditemukan. Pastikan file tersebut ada di direktori yang sama dengan skrip ini, atau berikan path lengkap ke file tersebut.\")\n",
        "\n",
        "# ... (rest of your code) ..."
      ],
      "cell_type": "code",
      "metadata": {
        "colab": {
          "base_uri": "https://localhost:8080/"
        },
        "id": "qShadIIWAien",
        "outputId": "5366bea6-33a0-4c4d-8e5b-10455869574e"
      },
      "execution_count": 5,
      "outputs": [
        {
          "output_type": "stream",
          "name": "stdout",
          "text": [
            "\n",
            "File 'data.csv' tidak ditemukan. Pastikan file tersebut ada di direktori yang sama dengan skrip ini, atau berikan path lengkap ke file tersebut.\n"
          ]
        }
      ]
    },
    {
      "cell_type": "markdown",
      "source": [
        "Dari data diatas dapat dikatakan bahwa sebuah data dapat diprose harus terdapat data set yang naninya dijalankan untuk diolah datanya dan kita dapat membuat Pola Segitiga menggunakan Python dan memfilter data serta menyimpan dalam bentuk file csv menggunakan pandas"
      ],
      "metadata": {
        "id": "AsRVFJ4aAuk8"
      }
    }
  ],
  "metadata": {
    "colab": {
      "provenance": [],
      "include_colab_link": true
    },
    "kernelspec": {
      "display_name": "Python 3",
      "language": "python",
      "name": "python3"
    },
    "language_info": {
      "codemirror_mode": {
        "name": "ipython",
        "version": 3
      },
      "file_extension": ".py",
      "mimetype": "text/x-python",
      "name": "python",
      "nbconvert_exporter": "python",
      "pygments_lexer": "ipython3",
      "version": "3.11.5"
    }
  },
  "nbformat": 4,
  "nbformat_minor": 0
}